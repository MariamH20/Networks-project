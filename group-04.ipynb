{
 "cells": [
  {
   "cell_type": "code",
   "execution_count": 1,
   "id": "f8b55c1f",
   "metadata": {
    "_cell_guid": "b1076dfc-b9ad-4769-8c92-a6c4dae69d19",
    "_uuid": "8f2839f25d086af736a60e9eeb907d3b93b6e0e5",
    "execution": {
     "iopub.execute_input": "2023-12-02T12:36:57.418230Z",
     "iopub.status.busy": "2023-12-02T12:36:57.417890Z",
     "iopub.status.idle": "2023-12-02T12:36:57.799693Z",
     "shell.execute_reply": "2023-12-02T12:36:57.798406Z"
    },
    "papermill": {
     "duration": 0.394747,
     "end_time": "2023-12-02T12:36:57.802600",
     "exception": false,
     "start_time": "2023-12-02T12:36:57.407853",
     "status": "completed"
    },
    "tags": []
   },
   "outputs": [
    {
     "name": "stdout",
     "output_type": "stream",
     "text": [
      "/kaggle/input/network-traffic-android-malware/android_traffic.csv\n"
     ]
    }
   ],
   "source": [
    "# This Python 3 environment comes with many helpful analytics libraries installed\n",
    "# It is defined by the kaggle/python Docker image: https://github.com/kaggle/docker-python\n",
    "# For example, here's several helpful packages to load\n",
    "\n",
    "import numpy as np # linear algebra\n",
    "import pandas as pd # data processing, CSV file I/O (e.g. pd.read_csv)\n",
    "\n",
    "# Input data files are available in the read-only \"../input/\" directory\n",
    "# For example, running this (by clicking run or pressing Shift+Enter) will list all files under the input directory\n",
    "\n",
    "import os\n",
    "for dirname, _, filenames in os.walk('/kaggle/input'):\n",
    "    for filename in filenames:\n",
    "        print(os.path.join(dirname, filename))\n",
    "\n",
    "# You can write up to 20GB to the current directory (/kaggle/working/) that gets preserved as output when you create a version using \"Save & Run All\" \n",
    "# You can also write temporary files to /kaggle/temp/, but they won't be saved outside of the current session"
   ]
  },
  {
   "cell_type": "markdown",
   "id": "a060c756",
   "metadata": {
    "papermill": {
     "duration": 0.006089,
     "end_time": "2023-12-02T12:36:57.815153",
     "exception": false,
     "start_time": "2023-12-02T12:36:57.809064",
     "status": "completed"
    },
    "tags": []
   },
   "source": [
    "**Import the necessary libraries:**"
   ]
  },
  {
   "cell_type": "code",
   "execution_count": 2,
   "id": "e834354d",
   "metadata": {
    "execution": {
     "iopub.execute_input": "2023-12-02T12:36:57.829088Z",
     "iopub.status.busy": "2023-12-02T12:36:57.828605Z",
     "iopub.status.idle": "2023-12-02T12:36:59.176031Z",
     "shell.execute_reply": "2023-12-02T12:36:59.175015Z"
    },
    "papermill": {
     "duration": 1.357198,
     "end_time": "2023-12-02T12:36:59.178426",
     "exception": false,
     "start_time": "2023-12-02T12:36:57.821228",
     "status": "completed"
    },
    "tags": []
   },
   "outputs": [],
   "source": [
    "import pandas as pd\n",
    "import numpy as np\n",
    "import matplotlib.pyplot as plt\n",
    "from sklearn.datasets import make_classification\n",
    "from sklearn.preprocessing import LabelEncoder\n",
    "from sklearn.model_selection import train_test_split\n",
    "from sklearn.linear_model import LogisticRegression\n",
    "from sklearn.metrics import accuracy_score, precision_score, recall_score, f1_score, roc_auc_score\n",
    "from sklearn.metrics import confusion_matrix\n",
    "from sklearn.metrics import precision_recall_curve, average_precision_score"
   ]
  },
  {
   "cell_type": "markdown",
   "id": "ba3f57ac",
   "metadata": {
    "papermill": {
     "duration": 0.005725,
     "end_time": "2023-12-02T12:36:59.190361",
     "exception": false,
     "start_time": "2023-12-02T12:36:59.184636",
     "status": "completed"
    },
    "tags": []
   },
   "source": [
    "**Load the dataset using pandas:**"
   ]
  },
  {
   "cell_type": "code",
   "execution_count": 3,
   "id": "27e70a53",
   "metadata": {
    "execution": {
     "iopub.execute_input": "2023-12-02T12:36:59.203636Z",
     "iopub.status.busy": "2023-12-02T12:36:59.203258Z",
     "iopub.status.idle": "2023-12-02T12:36:59.247573Z",
     "shell.execute_reply": "2023-12-02T12:36:59.246647Z"
    },
    "papermill": {
     "duration": 0.053864,
     "end_time": "2023-12-02T12:36:59.250024",
     "exception": false,
     "start_time": "2023-12-02T12:36:59.196160",
     "status": "completed"
    },
    "tags": []
   },
   "outputs": [],
   "source": [
    "data = pd.read_csv(\"../input/network-traffic-android-malware/android_traffic.csv\",sep=\";\")"
   ]
  },
  {
   "cell_type": "markdown",
   "id": "f0ac2a16",
   "metadata": {
    "papermill": {
     "duration": 0.005712,
     "end_time": "2023-12-02T12:36:59.261893",
     "exception": false,
     "start_time": "2023-12-02T12:36:59.256181",
     "status": "completed"
    },
    "tags": []
   },
   "source": [
    "**Replace NaN values with 0**"
   ]
  },
  {
   "cell_type": "code",
   "execution_count": 4,
   "id": "702af7ca",
   "metadata": {
    "execution": {
     "iopub.execute_input": "2023-12-02T12:36:59.275365Z",
     "iopub.status.busy": "2023-12-02T12:36:59.275021Z",
     "iopub.status.idle": "2023-12-02T12:36:59.282543Z",
     "shell.execute_reply": "2023-12-02T12:36:59.281773Z"
    },
    "papermill": {
     "duration": 0.016553,
     "end_time": "2023-12-02T12:36:59.284481",
     "exception": false,
     "start_time": "2023-12-02T12:36:59.267928",
     "status": "completed"
    },
    "tags": []
   },
   "outputs": [],
   "source": [
    "data = data.fillna(0)"
   ]
  },
  {
   "cell_type": "code",
   "execution_count": 5,
   "id": "829e7bc5",
   "metadata": {
    "execution": {
     "iopub.execute_input": "2023-12-02T12:36:59.298013Z",
     "iopub.status.busy": "2023-12-02T12:36:59.297620Z",
     "iopub.status.idle": "2023-12-02T12:36:59.323646Z",
     "shell.execute_reply": "2023-12-02T12:36:59.322780Z"
    },
    "papermill": {
     "duration": 0.035481,
     "end_time": "2023-12-02T12:36:59.325904",
     "exception": false,
     "start_time": "2023-12-02T12:36:59.290423",
     "status": "completed"
    },
    "tags": []
   },
   "outputs": [
    {
     "data": {
      "text/html": [
       "<div>\n",
       "<style scoped>\n",
       "    .dataframe tbody tr th:only-of-type {\n",
       "        vertical-align: middle;\n",
       "    }\n",
       "\n",
       "    .dataframe tbody tr th {\n",
       "        vertical-align: top;\n",
       "    }\n",
       "\n",
       "    .dataframe thead th {\n",
       "        text-align: right;\n",
       "    }\n",
       "</style>\n",
       "<table border=\"1\" class=\"dataframe\">\n",
       "  <thead>\n",
       "    <tr style=\"text-align: right;\">\n",
       "      <th></th>\n",
       "      <th>name</th>\n",
       "      <th>tcp_packets</th>\n",
       "      <th>dist_port_tcp</th>\n",
       "      <th>external_ips</th>\n",
       "      <th>vulume_bytes</th>\n",
       "      <th>udp_packets</th>\n",
       "      <th>tcp_urg_packet</th>\n",
       "      <th>source_app_packets</th>\n",
       "      <th>remote_app_packets</th>\n",
       "      <th>source_app_bytes</th>\n",
       "      <th>remote_app_bytes</th>\n",
       "      <th>duracion</th>\n",
       "      <th>avg_local_pkt_rate</th>\n",
       "      <th>avg_remote_pkt_rate</th>\n",
       "      <th>source_app_packets.1</th>\n",
       "      <th>dns_query_times</th>\n",
       "      <th>type</th>\n",
       "    </tr>\n",
       "  </thead>\n",
       "  <tbody>\n",
       "    <tr>\n",
       "      <th>0</th>\n",
       "      <td>AntiVirus</td>\n",
       "      <td>36</td>\n",
       "      <td>6</td>\n",
       "      <td>3</td>\n",
       "      <td>3911</td>\n",
       "      <td>0</td>\n",
       "      <td>0</td>\n",
       "      <td>39</td>\n",
       "      <td>33</td>\n",
       "      <td>5100</td>\n",
       "      <td>4140</td>\n",
       "      <td>0.0</td>\n",
       "      <td>0.0</td>\n",
       "      <td>0.0</td>\n",
       "      <td>39</td>\n",
       "      <td>3</td>\n",
       "      <td>benign</td>\n",
       "    </tr>\n",
       "    <tr>\n",
       "      <th>1</th>\n",
       "      <td>AntiVirus</td>\n",
       "      <td>117</td>\n",
       "      <td>0</td>\n",
       "      <td>9</td>\n",
       "      <td>23514</td>\n",
       "      <td>0</td>\n",
       "      <td>0</td>\n",
       "      <td>128</td>\n",
       "      <td>107</td>\n",
       "      <td>26248</td>\n",
       "      <td>24358</td>\n",
       "      <td>0.0</td>\n",
       "      <td>0.0</td>\n",
       "      <td>0.0</td>\n",
       "      <td>128</td>\n",
       "      <td>11</td>\n",
       "      <td>benign</td>\n",
       "    </tr>\n",
       "    <tr>\n",
       "      <th>2</th>\n",
       "      <td>AntiVirus</td>\n",
       "      <td>196</td>\n",
       "      <td>0</td>\n",
       "      <td>6</td>\n",
       "      <td>24151</td>\n",
       "      <td>0</td>\n",
       "      <td>0</td>\n",
       "      <td>205</td>\n",
       "      <td>214</td>\n",
       "      <td>163887</td>\n",
       "      <td>24867</td>\n",
       "      <td>0.0</td>\n",
       "      <td>0.0</td>\n",
       "      <td>0.0</td>\n",
       "      <td>205</td>\n",
       "      <td>9</td>\n",
       "      <td>benign</td>\n",
       "    </tr>\n",
       "    <tr>\n",
       "      <th>3</th>\n",
       "      <td>AntiVirus</td>\n",
       "      <td>6</td>\n",
       "      <td>0</td>\n",
       "      <td>1</td>\n",
       "      <td>889</td>\n",
       "      <td>0</td>\n",
       "      <td>0</td>\n",
       "      <td>7</td>\n",
       "      <td>6</td>\n",
       "      <td>819</td>\n",
       "      <td>975</td>\n",
       "      <td>0.0</td>\n",
       "      <td>0.0</td>\n",
       "      <td>0.0</td>\n",
       "      <td>7</td>\n",
       "      <td>1</td>\n",
       "      <td>benign</td>\n",
       "    </tr>\n",
       "    <tr>\n",
       "      <th>4</th>\n",
       "      <td>AntiVirus</td>\n",
       "      <td>6</td>\n",
       "      <td>0</td>\n",
       "      <td>1</td>\n",
       "      <td>882</td>\n",
       "      <td>0</td>\n",
       "      <td>0</td>\n",
       "      <td>7</td>\n",
       "      <td>6</td>\n",
       "      <td>819</td>\n",
       "      <td>968</td>\n",
       "      <td>0.0</td>\n",
       "      <td>0.0</td>\n",
       "      <td>0.0</td>\n",
       "      <td>7</td>\n",
       "      <td>1</td>\n",
       "      <td>benign</td>\n",
       "    </tr>\n",
       "  </tbody>\n",
       "</table>\n",
       "</div>"
      ],
      "text/plain": [
       "        name  tcp_packets  dist_port_tcp  external_ips  vulume_bytes  \\\n",
       "0  AntiVirus           36              6             3          3911   \n",
       "1  AntiVirus          117              0             9         23514   \n",
       "2  AntiVirus          196              0             6         24151   \n",
       "3  AntiVirus            6              0             1           889   \n",
       "4  AntiVirus            6              0             1           882   \n",
       "\n",
       "   udp_packets  tcp_urg_packet  source_app_packets  remote_app_packets  \\\n",
       "0            0               0                  39                  33   \n",
       "1            0               0                 128                 107   \n",
       "2            0               0                 205                 214   \n",
       "3            0               0                   7                   6   \n",
       "4            0               0                   7                   6   \n",
       "\n",
       "   source_app_bytes  remote_app_bytes  duracion  avg_local_pkt_rate  \\\n",
       "0              5100              4140       0.0                 0.0   \n",
       "1             26248             24358       0.0                 0.0   \n",
       "2            163887             24867       0.0                 0.0   \n",
       "3               819               975       0.0                 0.0   \n",
       "4               819               968       0.0                 0.0   \n",
       "\n",
       "   avg_remote_pkt_rate  source_app_packets.1  dns_query_times    type  \n",
       "0                  0.0                    39                3  benign  \n",
       "1                  0.0                   128               11  benign  \n",
       "2                  0.0                   205                9  benign  \n",
       "3                  0.0                     7                1  benign  \n",
       "4                  0.0                     7                1  benign  "
      ]
     },
     "execution_count": 5,
     "metadata": {},
     "output_type": "execute_result"
    }
   ],
   "source": [
    "data.head()"
   ]
  },
  {
   "cell_type": "markdown",
   "id": "e29938c3",
   "metadata": {
    "papermill": {
     "duration": 0.006152,
     "end_time": "2023-12-02T12:36:59.338499",
     "exception": false,
     "start_time": "2023-12-02T12:36:59.332347",
     "status": "completed"
    },
    "tags": []
   },
   "source": [
    "**Create a new DataFrame that does not have a 'type' column.**"
   ]
  },
  {
   "cell_type": "code",
   "execution_count": 6,
   "id": "d95500a6",
   "metadata": {
    "execution": {
     "iopub.execute_input": "2023-12-02T12:36:59.353624Z",
     "iopub.status.busy": "2023-12-02T12:36:59.352831Z",
     "iopub.status.idle": "2023-12-02T12:36:59.375532Z",
     "shell.execute_reply": "2023-12-02T12:36:59.374110Z"
    },
    "papermill": {
     "duration": 0.033141,
     "end_time": "2023-12-02T12:36:59.377940",
     "exception": false,
     "start_time": "2023-12-02T12:36:59.344799",
     "status": "completed"
    },
    "tags": []
   },
   "outputs": [
    {
     "name": "stdout",
     "output_type": "stream",
     "text": [
      "           name  tcp_packets  dist_port_tcp  external_ips  vulume_bytes  \\\n",
      "0     AntiVirus           36              6             3          3911   \n",
      "1     AntiVirus          117              0             9         23514   \n",
      "2     AntiVirus          196              0             6         24151   \n",
      "3     AntiVirus            6              0             1           889   \n",
      "4     AntiVirus            6              0             1           882   \n",
      "...         ...          ...            ...           ...           ...   \n",
      "7840      Zsone            0              0             0             0   \n",
      "7841      Zsone            4              4             1           296   \n",
      "7842      Zsone            0              0             0             0   \n",
      "7843      Zsone            0              0             0             0   \n",
      "7844      Zsone            0              0             0             0   \n",
      "\n",
      "      udp_packets  tcp_urg_packet  source_app_packets  remote_app_packets  \\\n",
      "0               0               0                  39                  33   \n",
      "1               0               0                 128                 107   \n",
      "2               0               0                 205                 214   \n",
      "3               0               0                   7                   6   \n",
      "4               0               0                   7                   6   \n",
      "...           ...             ...                 ...                 ...   \n",
      "7840            0               0                   2                   2   \n",
      "7841            0               0                   5                   1   \n",
      "7842            0               0                   2                   2   \n",
      "7843            0               0                   2                   2   \n",
      "7844            0               0                   2                   2   \n",
      "\n",
      "      source_app_bytes  remote_app_bytes  duracion  avg_local_pkt_rate  \\\n",
      "0                 5100              4140       0.0                 0.0   \n",
      "1                26248             24358       0.0                 0.0   \n",
      "2               163887             24867       0.0                 0.0   \n",
      "3                  819               975       0.0                 0.0   \n",
      "4                  819               968       0.0                 0.0   \n",
      "...                ...               ...       ...                 ...   \n",
      "7840               257               143       0.0                 0.0   \n",
      "7841                86               382       0.0                 0.0   \n",
      "7842               257               143       0.0                 0.0   \n",
      "7843               257               143       0.0                 0.0   \n",
      "7844               257               143       0.0                 0.0   \n",
      "\n",
      "      avg_remote_pkt_rate  source_app_packets.1  dns_query_times  \n",
      "0                     0.0                    39                3  \n",
      "1                     0.0                   128               11  \n",
      "2                     0.0                   205                9  \n",
      "3                     0.0                     7                1  \n",
      "4                     0.0                     7                1  \n",
      "...                   ...                   ...              ...  \n",
      "7840                  0.0                     2                2  \n",
      "7841                  0.0                     5                1  \n",
      "7842                  0.0                     2                2  \n",
      "7843                  0.0                     2                2  \n",
      "7844                  0.0                     2                2  \n",
      "\n",
      "[7845 rows x 16 columns]\n"
     ]
    }
   ],
   "source": [
    "X = data.drop('type', axis=1)\n",
    "print(X)"
   ]
  },
  {
   "cell_type": "code",
   "execution_count": 7,
   "id": "e17c4403",
   "metadata": {
    "execution": {
     "iopub.execute_input": "2023-12-02T12:36:59.392544Z",
     "iopub.status.busy": "2023-12-02T12:36:59.392186Z",
     "iopub.status.idle": "2023-12-02T12:36:59.398033Z",
     "shell.execute_reply": "2023-12-02T12:36:59.397227Z"
    },
    "papermill": {
     "duration": 0.015919,
     "end_time": "2023-12-02T12:36:59.400374",
     "exception": false,
     "start_time": "2023-12-02T12:36:59.384455",
     "status": "completed"
    },
    "tags": []
   },
   "outputs": [
    {
     "name": "stdout",
     "output_type": "stream",
     "text": [
      "0          benign\n",
      "1          benign\n",
      "2          benign\n",
      "3          benign\n",
      "4          benign\n",
      "          ...    \n",
      "7840    malicious\n",
      "7841    malicious\n",
      "7842    malicious\n",
      "7843    malicious\n",
      "7844    malicious\n",
      "Name: type, Length: 7845, dtype: object\n"
     ]
    }
   ],
   "source": [
    "y = data['type']\n",
    "print(y)"
   ]
  },
  {
   "cell_type": "markdown",
   "id": "ec584b45",
   "metadata": {
    "papermill": {
     "duration": 0.006259,
     "end_time": "2023-12-02T12:36:59.413159",
     "exception": false,
     "start_time": "2023-12-02T12:36:59.406900",
     "status": "completed"
    },
    "tags": []
   },
   "source": [
    "**Change a string column to numeric:**"
   ]
  },
  {
   "cell_type": "code",
   "execution_count": 8,
   "id": "3f00acd9",
   "metadata": {
    "execution": {
     "iopub.execute_input": "2023-12-02T12:36:59.428091Z",
     "iopub.status.busy": "2023-12-02T12:36:59.427380Z",
     "iopub.status.idle": "2023-12-02T12:36:59.449178Z",
     "shell.execute_reply": "2023-12-02T12:36:59.448255Z"
    },
    "papermill": {
     "duration": 0.031915,
     "end_time": "2023-12-02T12:36:59.451490",
     "exception": false,
     "start_time": "2023-12-02T12:36:59.419575",
     "status": "completed"
    },
    "tags": []
   },
   "outputs": [],
   "source": [
    "from sklearn.preprocessing import LabelEncoder\n",
    "\n",
    "X = pd.get_dummies(X)\n",
    "label_encoder = LabelEncoder()\n",
    "y = label_encoder.fit_transform(y)"
   ]
  },
  {
   "cell_type": "markdown",
   "id": "9bf9a68e",
   "metadata": {
    "papermill": {
     "duration": 0.006342,
     "end_time": "2023-12-02T12:36:59.464464",
     "exception": false,
     "start_time": "2023-12-02T12:36:59.458122",
     "status": "completed"
    },
    "tags": []
   },
   "source": [
    "**Split the dataset into training and testing sets:**"
   ]
  },
  {
   "cell_type": "code",
   "execution_count": 9,
   "id": "edddbecc",
   "metadata": {
    "execution": {
     "iopub.execute_input": "2023-12-02T12:36:59.480023Z",
     "iopub.status.busy": "2023-12-02T12:36:59.479216Z",
     "iopub.status.idle": "2023-12-02T12:36:59.488083Z",
     "shell.execute_reply": "2023-12-02T12:36:59.487152Z"
    },
    "papermill": {
     "duration": 0.019235,
     "end_time": "2023-12-02T12:36:59.490243",
     "exception": false,
     "start_time": "2023-12-02T12:36:59.471008",
     "status": "completed"
    },
    "tags": []
   },
   "outputs": [],
   "source": [
    "from sklearn.model_selection import train_test_split\n",
    "\n",
    "X_train, X_test, y_train, y_test = train_test_split(X, y, test_size=0.2, random_state=42)"
   ]
  },
  {
   "cell_type": "markdown",
   "id": "c0292c66",
   "metadata": {
    "papermill": {
     "duration": 0.006292,
     "end_time": "2023-12-02T12:36:59.503138",
     "exception": false,
     "start_time": "2023-12-02T12:36:59.496846",
     "status": "completed"
    },
    "tags": []
   },
   "source": [
    "**Train the Logistic Regression model:**"
   ]
  },
  {
   "cell_type": "code",
   "execution_count": 10,
   "id": "67f44547",
   "metadata": {
    "execution": {
     "iopub.execute_input": "2023-12-02T12:36:59.518799Z",
     "iopub.status.busy": "2023-12-02T12:36:59.517970Z",
     "iopub.status.idle": "2023-12-02T12:36:59.626205Z",
     "shell.execute_reply": "2023-12-02T12:36:59.625159Z"
    },
    "papermill": {
     "duration": 0.119345,
     "end_time": "2023-12-02T12:36:59.629027",
     "exception": false,
     "start_time": "2023-12-02T12:36:59.509682",
     "status": "completed"
    },
    "tags": []
   },
   "outputs": [
    {
     "data": {
      "text/html": [
       "<style>#sk-container-id-1 {color: black;background-color: white;}#sk-container-id-1 pre{padding: 0;}#sk-container-id-1 div.sk-toggleable {background-color: white;}#sk-container-id-1 label.sk-toggleable__label {cursor: pointer;display: block;width: 100%;margin-bottom: 0;padding: 0.3em;box-sizing: border-box;text-align: center;}#sk-container-id-1 label.sk-toggleable__label-arrow:before {content: \"▸\";float: left;margin-right: 0.25em;color: #696969;}#sk-container-id-1 label.sk-toggleable__label-arrow:hover:before {color: black;}#sk-container-id-1 div.sk-estimator:hover label.sk-toggleable__label-arrow:before {color: black;}#sk-container-id-1 div.sk-toggleable__content {max-height: 0;max-width: 0;overflow: hidden;text-align: left;background-color: #f0f8ff;}#sk-container-id-1 div.sk-toggleable__content pre {margin: 0.2em;color: black;border-radius: 0.25em;background-color: #f0f8ff;}#sk-container-id-1 input.sk-toggleable__control:checked~div.sk-toggleable__content {max-height: 200px;max-width: 100%;overflow: auto;}#sk-container-id-1 input.sk-toggleable__control:checked~label.sk-toggleable__label-arrow:before {content: \"▾\";}#sk-container-id-1 div.sk-estimator input.sk-toggleable__control:checked~label.sk-toggleable__label {background-color: #d4ebff;}#sk-container-id-1 div.sk-label input.sk-toggleable__control:checked~label.sk-toggleable__label {background-color: #d4ebff;}#sk-container-id-1 input.sk-hidden--visually {border: 0;clip: rect(1px 1px 1px 1px);clip: rect(1px, 1px, 1px, 1px);height: 1px;margin: -1px;overflow: hidden;padding: 0;position: absolute;width: 1px;}#sk-container-id-1 div.sk-estimator {font-family: monospace;background-color: #f0f8ff;border: 1px dotted black;border-radius: 0.25em;box-sizing: border-box;margin-bottom: 0.5em;}#sk-container-id-1 div.sk-estimator:hover {background-color: #d4ebff;}#sk-container-id-1 div.sk-parallel-item::after {content: \"\";width: 100%;border-bottom: 1px solid gray;flex-grow: 1;}#sk-container-id-1 div.sk-label:hover label.sk-toggleable__label {background-color: #d4ebff;}#sk-container-id-1 div.sk-serial::before {content: \"\";position: absolute;border-left: 1px solid gray;box-sizing: border-box;top: 0;bottom: 0;left: 50%;z-index: 0;}#sk-container-id-1 div.sk-serial {display: flex;flex-direction: column;align-items: center;background-color: white;padding-right: 0.2em;padding-left: 0.2em;position: relative;}#sk-container-id-1 div.sk-item {position: relative;z-index: 1;}#sk-container-id-1 div.sk-parallel {display: flex;align-items: stretch;justify-content: center;background-color: white;position: relative;}#sk-container-id-1 div.sk-item::before, #sk-container-id-1 div.sk-parallel-item::before {content: \"\";position: absolute;border-left: 1px solid gray;box-sizing: border-box;top: 0;bottom: 0;left: 50%;z-index: -1;}#sk-container-id-1 div.sk-parallel-item {display: flex;flex-direction: column;z-index: 1;position: relative;background-color: white;}#sk-container-id-1 div.sk-parallel-item:first-child::after {align-self: flex-end;width: 50%;}#sk-container-id-1 div.sk-parallel-item:last-child::after {align-self: flex-start;width: 50%;}#sk-container-id-1 div.sk-parallel-item:only-child::after {width: 0;}#sk-container-id-1 div.sk-dashed-wrapped {border: 1px dashed gray;margin: 0 0.4em 0.5em 0.4em;box-sizing: border-box;padding-bottom: 0.4em;background-color: white;}#sk-container-id-1 div.sk-label label {font-family: monospace;font-weight: bold;display: inline-block;line-height: 1.2em;}#sk-container-id-1 div.sk-label-container {text-align: center;}#sk-container-id-1 div.sk-container {/* jupyter's `normalize.less` sets `[hidden] { display: none; }` but bootstrap.min.css set `[hidden] { display: none !important; }` so we also need the `!important` here to be able to override the default hidden behavior on the sphinx rendered scikit-learn.org. See: https://github.com/scikit-learn/scikit-learn/issues/21755 */display: inline-block !important;position: relative;}#sk-container-id-1 div.sk-text-repr-fallback {display: none;}</style><div id=\"sk-container-id-1\" class=\"sk-top-container\"><div class=\"sk-text-repr-fallback\"><pre>LogisticRegression()</pre><b>In a Jupyter environment, please rerun this cell to show the HTML representation or trust the notebook. <br />On GitHub, the HTML representation is unable to render, please try loading this page with nbviewer.org.</b></div><div class=\"sk-container\" hidden><div class=\"sk-item\"><div class=\"sk-estimator sk-toggleable\"><input class=\"sk-toggleable__control sk-hidden--visually\" id=\"sk-estimator-id-1\" type=\"checkbox\" checked><label for=\"sk-estimator-id-1\" class=\"sk-toggleable__label sk-toggleable__label-arrow\">LogisticRegression</label><div class=\"sk-toggleable__content\"><pre>LogisticRegression()</pre></div></div></div></div></div>"
      ],
      "text/plain": [
       "LogisticRegression()"
      ]
     },
     "execution_count": 10,
     "metadata": {},
     "output_type": "execute_result"
    }
   ],
   "source": [
    "model = LogisticRegression()\n",
    "model.fit(X_train, y_train)"
   ]
  },
  {
   "cell_type": "markdown",
   "id": "6cf72d36",
   "metadata": {
    "papermill": {
     "duration": 0.011538,
     "end_time": "2023-12-02T12:36:59.651961",
     "exception": false,
     "start_time": "2023-12-02T12:36:59.640423",
     "status": "completed"
    },
    "tags": []
   },
   "source": [
    "**Predict the test set results:**"
   ]
  },
  {
   "cell_type": "code",
   "execution_count": 11,
   "id": "c16218b9",
   "metadata": {
    "execution": {
     "iopub.execute_input": "2023-12-02T12:36:59.677209Z",
     "iopub.status.busy": "2023-12-02T12:36:59.676694Z",
     "iopub.status.idle": "2023-12-02T12:36:59.692899Z",
     "shell.execute_reply": "2023-12-02T12:36:59.691760Z"
    },
    "papermill": {
     "duration": 0.032693,
     "end_time": "2023-12-02T12:36:59.696192",
     "exception": false,
     "start_time": "2023-12-02T12:36:59.663499",
     "status": "completed"
    },
    "tags": []
   },
   "outputs": [],
   "source": [
    "y_pred = model.predict(X_test)"
   ]
  },
  {
   "cell_type": "markdown",
   "id": "6dc4148b",
   "metadata": {
    "papermill": {
     "duration": 0.010885,
     "end_time": "2023-12-02T12:36:59.719132",
     "exception": false,
     "start_time": "2023-12-02T12:36:59.708247",
     "status": "completed"
    },
    "tags": []
   },
   "source": [
    "**Evaluate the model:**"
   ]
  },
  {
   "cell_type": "code",
   "execution_count": 12,
   "id": "b7346759",
   "metadata": {
    "execution": {
     "iopub.execute_input": "2023-12-02T12:36:59.744029Z",
     "iopub.status.busy": "2023-12-02T12:36:59.743504Z",
     "iopub.status.idle": "2023-12-02T12:36:59.780057Z",
     "shell.execute_reply": "2023-12-02T12:36:59.779004Z"
    },
    "papermill": {
     "duration": 0.052805,
     "end_time": "2023-12-02T12:36:59.783309",
     "exception": false,
     "start_time": "2023-12-02T12:36:59.730504",
     "status": "completed"
    },
    "tags": []
   },
   "outputs": [
    {
     "name": "stdout",
     "output_type": "stream",
     "text": [
      "Accuracy: 0.6832377310388783\n",
      "Precision: 0.7768595041322314\n",
      "Recall: 0.2979397781299525\n",
      "F1 Score: 0.4306987399770905\n",
      "ROC AUC Score:0.6742757798059735\n"
     ]
    }
   ],
   "source": [
    "accuracy = accuracy_score(y_test, y_pred)\n",
    "precision = precision_score(y_test, y_pred)\n",
    "recall = recall_score(y_test, y_pred)\n",
    "f1 = f1_score(y_test, y_pred)\n",
    "roc_auc = roc_auc_score(y_test, model.predict_proba(X_test)[:,1])\n",
    "\n",
    "print(f'Accuracy: {accuracy}')\n",
    "print(f'Precision: {precision}')\n",
    "print(f'Recall: {recall}')\n",
    "print(f'F1 Score: {f1}')\n",
    "print(f'ROC AUC Score:{roc_auc}')"
   ]
  },
  {
   "cell_type": "markdown",
   "id": "9a5bb16b",
   "metadata": {
    "papermill": {
     "duration": 0.011116,
     "end_time": "2023-12-02T12:36:59.806625",
     "exception": false,
     "start_time": "2023-12-02T12:36:59.795509",
     "status": "completed"
    },
    "tags": []
   },
   "source": [
    "**Menampilkan Confusion Matrix**"
   ]
  },
  {
   "cell_type": "code",
   "execution_count": 13,
   "id": "8939c97c",
   "metadata": {
    "execution": {
     "iopub.execute_input": "2023-12-02T12:36:59.835060Z",
     "iopub.status.busy": "2023-12-02T12:36:59.834505Z",
     "iopub.status.idle": "2023-12-02T12:37:00.193504Z",
     "shell.execute_reply": "2023-12-02T12:37:00.192476Z"
    },
    "papermill": {
     "duration": 0.376438,
     "end_time": "2023-12-02T12:37:00.195933",
     "exception": false,
     "start_time": "2023-12-02T12:36:59.819495",
     "status": "completed"
    },
    "tags": []
   },
   "outputs": [
    {
     "data": {
      "image/png": "[encoded data removed]",
      "text/plain": [
       "<Figure size 640x480 with 2 Axes>"
      ]
     },
     "metadata": {},
     "output_type": "display_data"
    }
   ],
   "source": [
    "# Creating confusion matrix\n",
    "cm = confusion_matrix(y_test, y_pred)\n",
    "\n",
    "# Visualizing confusion matrix\n",
    "plt.imshow(cm, interpolation='nearest', cmap=plt.cm.Blues)\n",
    "plt.title('Confusion Matrix')\n",
    "plt.colorbar()\n",
    "\n",
    "# Adding text to the confusion matrix\n",
    "for i in range(len(cm)):\n",
    "    for j in range(len(cm[0])):\n",
    "        plt.text(j, i, cm[i, j], ha='center', va='center', color='red')\n",
    "\n",
    "classes = np.unique(y)\n",
    "tick_marks = np.arange(len(classes))\n",
    "plt.xticks(tick_marks, classes)\n",
    "plt.yticks(tick_marks, classes)\n",
    "\n",
    "plt.xlabel('Predicted Label')\n",
    "plt.ylabel('True Label')\n",
    "plt.tight_layout()\n",
    "plt.show()"
   ]
  },
  {
   "cell_type": "markdown",
   "id": "d30131e4",
   "metadata": {
    "papermill": {
     "duration": 0.006998,
     "end_time": "2023-12-02T12:37:00.210274",
     "exception": false,
     "start_time": "2023-12-02T12:37:00.203276",
     "status": "completed"
    },
    "tags": []
   },
   "source": [
    "**Receiver Operating Characteristic (ROC) Curve**"
   ]
  },
  {
   "cell_type": "code",
   "execution_count": 14,
   "id": "d4b5d7cf",
   "metadata": {
    "execution": {
     "iopub.execute_input": "2023-12-02T12:37:00.226656Z",
     "iopub.status.busy": "2023-12-02T12:37:00.226271Z",
     "iopub.status.idle": "2023-12-02T12:37:00.524976Z",
     "shell.execute_reply": "2023-12-02T12:37:00.524156Z"
    },
    "papermill": {
     "duration": 0.309712,
     "end_time": "2023-12-02T12:37:00.527115",
     "exception": false,
     "start_time": "2023-12-02T12:37:00.217403",
     "status": "completed"
    },
    "tags": []
   },
   "outputs": [
    {
     "data": {
      "image/png": "[encoded data removed]",
      "text/plain": [
       "<Figure size 800x600 with 1 Axes>"
      ]
     },
     "metadata": {},
     "output_type": "display_data"
    }
   ],
   "source": [
    "from sklearn.metrics import roc_curve, roc_auc_score\n",
    "\n",
    "# Menilai kemungkinan prediksi pada data uji\n",
    "y_prob = model.predict_proba(X_test)[:, 1]\n",
    "\n",
    "# Menghitung nilai TPR (True Positive Rate), FPR (False Positive Rate), dan threshold\n",
    "false_positive_rate, true_positive_rate, thresholds = roc_curve(y_test, y_prob)\n",
    "\n",
    "# Menghitung nilai AUC (Area Under Curve)\n",
    "area_under_curve = roc_auc_score(y_test, y_prob)\n",
    "\n",
    "# Plot kurva ROC (Receiver Operating Characteristic)\n",
    "plt.figure(figsize=(8, 6))\n",
    "plt.plot(false_positive_rate, true_positive_rate, label=f'AUC = {area_under_curve:.2f}')\n",
    "plt.plot([0, 1], [0, 1], linestyle='--', color='grey')\n",
    "plt.xlabel('False Positive Rate')\n",
    "plt.ylabel('True Positive Rate')\n",
    "plt.title('Receiver Operating Characteristic (ROC) Curve')\n",
    "plt.legend()\n",
    "plt.show()\n"
   ]
  },
  {
   "cell_type": "markdown",
   "id": "a822cba7",
   "metadata": {
    "papermill": {
     "duration": 0.008225,
     "end_time": "2023-12-02T12:37:00.543419",
     "exception": false,
     "start_time": "2023-12-02T12:37:00.535194",
     "status": "completed"
    },
    "tags": []
   },
   "source": [
    "**Precision-Recall Curve**"
   ]
  },
  {
   "cell_type": "code",
   "execution_count": 15,
   "id": "a52ec10d",
   "metadata": {
    "execution": {
     "iopub.execute_input": "2023-12-02T12:37:00.563388Z",
     "iopub.status.busy": "2023-12-02T12:37:00.562711Z",
     "iopub.status.idle": "2023-12-02T12:37:00.570924Z",
     "shell.execute_reply": "2023-12-02T12:37:00.569850Z"
    },
    "papermill": {
     "duration": 0.019812,
     "end_time": "2023-12-02T12:37:00.572951",
     "exception": false,
     "start_time": "2023-12-02T12:37:00.553139",
     "status": "completed"
    },
    "tags": []
   },
   "outputs": [
    {
     "name": "stdout",
     "output_type": "stream",
     "text": [
      "Average Precision (AP): 0.5725\n"
     ]
    }
   ],
   "source": [
    "# Menghitung nilai precision, recall, dan threshold\n",
    "precision, recall, thresholds = precision_recall_curve(y_test, y_prob)\n",
    "\n",
    "# Menghitung nilai Average Precision (AP)\n",
    "ap = average_precision_score(y_test, y_prob)\n",
    "print(f\"Average Precision (AP): {ap:.4f}\")"
   ]
  },
  {
   "cell_type": "code",
   "execution_count": 16,
   "id": "93e1c957",
   "metadata": {
    "execution": {
     "iopub.execute_input": "2023-12-02T12:37:00.591051Z",
     "iopub.status.busy": "2023-12-02T12:37:00.590368Z",
     "iopub.status.idle": "2023-12-02T12:37:00.863114Z",
     "shell.execute_reply": "2023-12-02T12:37:00.862142Z"
    },
    "papermill": {
     "duration": 0.284272,
     "end_time": "2023-12-02T12:37:00.865410",
     "exception": false,
     "start_time": "2023-12-02T12:37:00.581138",
     "status": "completed"
    },
    "tags": []
   },
   "outputs": [
    {
     "data": {
      "image/png": "[encoded data removed]",
      "text/plain": [
       "<Figure size 800x600 with 1 Axes>"
      ]
     },
     "metadata": {},
     "output_type": "display_data"
    }
   ],
   "source": [
    "# Menghitung nilai precision, recall, dan threshold\n",
    "precision, recall, thresholds = precision_recall_curve(y_test, y_prob)\n",
    "\n",
    "# Menghitung nilai Average Precision (AP)\n",
    "ap = average_precision_score(y_test, y_prob)\n",
    "\n",
    "# Plot Precision-Recall Curve\n",
    "plt.figure(figsize=(8, 6))\n",
    "plt.plot(recall, precision, label=f'AP = {ap:.2f}')\n",
    "plt.xlabel('Recall')\n",
    "plt.ylabel('Precision')\n",
    "plt.title('Precision-Recall Curve')\n",
    "plt.legend()\n",
    "plt.show()"
   ]
  },
  {
   "cell_type": "code",
   "execution_count": 17,
   "id": "1267dbd9",
   "metadata": {
    "execution": {
     "iopub.execute_input": "2023-12-02T12:37:00.884959Z",
     "iopub.status.busy": "2023-12-02T12:37:00.884144Z",
     "iopub.status.idle": "2023-12-02T12:37:00.894584Z",
     "shell.execute_reply": "2023-12-02T12:37:00.893954Z"
    },
    "papermill": {
     "duration": 0.022124,
     "end_time": "2023-12-02T12:37:00.896323",
     "exception": false,
     "start_time": "2023-12-02T12:37:00.874199",
     "status": "completed"
    },
    "tags": []
   },
   "outputs": [
    {
     "data": {
      "text/html": [
       "<div>\n",
       "<style scoped>\n",
       "    .dataframe tbody tr th:only-of-type {\n",
       "        vertical-align: middle;\n",
       "    }\n",
       "\n",
       "    .dataframe tbody tr th {\n",
       "        vertical-align: top;\n",
       "    }\n",
       "\n",
       "    .dataframe thead th {\n",
       "        text-align: right;\n",
       "    }\n",
       "</style>\n",
       "<table border=\"1\" class=\"dataframe\">\n",
       "  <thead>\n",
       "    <tr style=\"text-align: right;\">\n",
       "      <th></th>\n",
       "      <th>Status</th>\n",
       "      <th>Value</th>\n",
       "    </tr>\n",
       "  </thead>\n",
       "  <tbody>\n",
       "    <tr>\n",
       "      <th>0</th>\n",
       "      <td>Accuracy</td>\n",
       "      <td>0.683238</td>\n",
       "    </tr>\n",
       "    <tr>\n",
       "      <th>1</th>\n",
       "      <td>Precision</td>\n",
       "      <td>0.776860</td>\n",
       "    </tr>\n",
       "    <tr>\n",
       "      <th>2</th>\n",
       "      <td>Recall</td>\n",
       "      <td>0.297940</td>\n",
       "    </tr>\n",
       "    <tr>\n",
       "      <th>3</th>\n",
       "      <td>F1 Score</td>\n",
       "      <td>0.430699</td>\n",
       "    </tr>\n",
       "    <tr>\n",
       "      <th>4</th>\n",
       "      <td>ROC AUC Score</td>\n",
       "      <td>0.674276</td>\n",
       "    </tr>\n",
       "  </tbody>\n",
       "</table>\n",
       "</div>"
      ],
      "text/plain": [
       "          Status     Value\n",
       "0       Accuracy  0.683238\n",
       "1      Precision  0.776860\n",
       "2         Recall  0.297940\n",
       "3       F1 Score  0.430699\n",
       "4  ROC AUC Score  0.674276"
      ]
     },
     "metadata": {},
     "output_type": "display_data"
    }
   ],
   "source": [
    "import pandas as pd\n",
    "from IPython.display import display, HTML\n",
    "\n",
    "# Create the DataFrame\n",
    "data = pd.DataFrame({\n",
    "  \"Status\": [\"Accuracy\", \"Precision\", \"Recall\", \"F1 Score\", \"ROC AUC Score\"],\n",
    "  \"Value\": [0.6832377310388783, 0.7768595041322314, 0.2979397781299525, 0.4306987399770905, 0.6742757798059735]\n",
    "})\n",
    "\n",
    "df = pd.DataFrame(data, columns=['Status', 'Value'])\n",
    "display(df)"
   ]
  }
 ],
 "metadata": {
  "kaggle": {
   "accelerator": "none",
   "dataSources": [
    {
     "datasetId": 344265,
     "sourceId": 680743,
     "sourceType": "datasetVersion"
    }
   ],
   "dockerImageVersionId": 30587,
   "isGpuEnabled": false,
   "isInternetEnabled": false,
   "language": "python",
   "sourceType": "notebook"
  },
  "kernelspec": {
   "display_name": "Python 3",
   "language": "python",
   "name": "python3"
  },
  "language_info": {
   "codemirror_mode": {
    "name": "ipython",
    "version": 3
   },
   "file_extension": ".py",
   "mimetype": "text/x-python",
   "name": "python",
   "nbconvert_exporter": "python",
   "pygments_lexer": "ipython3",
   "version": "3.10.12"
  },
  "papermill": {
   "default_parameters": {},
   "duration": 7.019453,
   "end_time": "2023-12-02T12:37:01.424375",
   "environment_variables": {},
   "exception": null,
   "input_path": "__notebook__.ipynb",
   "output_path": "__notebook__.ipynb",
   "parameters": {},
   "start_time": "2023-12-02T12:36:54.404922",
   "version": "2.4.0"
  }
 },
 "nbformat": 4,
 "nbformat_minor": 5
}
